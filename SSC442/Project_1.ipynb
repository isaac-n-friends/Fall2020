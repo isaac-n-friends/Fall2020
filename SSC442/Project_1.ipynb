{
 "cells": [
  {
   "cell_type": "markdown",
   "metadata": {},
   "source": [
    "# Project 1\n",
    "\n",
    "## Part 1 - Rat sighting data analysis\n",
    "\n",
    "First lets import our packages. We'll be using tidyverse and dslabs to wrangle our rat sigtings data and make some plots"
   ]
  },
  {
   "cell_type": "code",
   "execution_count": 2,
   "metadata": {},
   "outputs": [
    {
     "name": "stdout",
     "output_type": "stream",
     "text": [
      "package 'dslabs' successfully unpacked and MD5 sums checked\n",
      "\n",
      "The downloaded binary packages are in\n",
      "\tC:\\Users\\User\\AppData\\Local\\Temp\\RtmpIvCIdf\\downloaded_packages\n"
     ]
    },
    {
     "name": "stderr",
     "output_type": "stream",
     "text": [
      "Warning message:\n",
      "\"package 'dslabs' was built under R version 3.6.3\""
     ]
    }
   ],
   "source": [
    "#install.packages('dslabs')\n",
    "\n",
    "library(tidyverse)\n",
    "library(dslabs)"
   ]
  },
  {
   "cell_type": "markdown",
   "metadata": {},
   "source": []
  },
  {
   "cell_type": "code",
   "execution_count": 3,
   "metadata": {},
   "outputs": [
    {
     "data": {
      "text/html": [
       "<table>\n",
       "<thead><tr><th scope=col>estimate</th><th scope=col>low</th><th scope=col>high</th><th scope=col>sample_size</th><th scope=col>poll</th></tr></thead>\n",
       "<tbody>\n",
       "\t<tr><td> 0.095531587</td><td> 0.041377919</td><td>0.14968526  </td><td>1298        </td><td> 1          </td></tr>\n",
       "\t<tr><td> 0.091932458</td><td> 0.007394952</td><td>0.17646996  </td><td> 533        </td><td> 2          </td></tr>\n",
       "\t<tr><td> 0.026825633</td><td>-0.026658319</td><td>0.08030959  </td><td>1342        </td><td> 3          </td></tr>\n",
       "\t<tr><td>-0.023411371</td><td>-0.088835930</td><td>0.04201319  </td><td> 897        </td><td> 4          </td></tr>\n",
       "\t<tr><td> 0.054263566</td><td>-0.016083380</td><td>0.12461051  </td><td> 774        </td><td> 5          </td></tr>\n",
       "\t<tr><td> 0.007874016</td><td>-0.115103510</td><td>0.13085154  </td><td> 254        </td><td> 6          </td></tr>\n",
       "\t<tr><td> 0.034482759</td><td>-0.034258852</td><td>0.10322437  </td><td> 812        </td><td> 7          </td></tr>\n",
       "\t<tr><td> 0.024691358</td><td>-0.084164333</td><td>0.13354705  </td><td> 324        </td><td> 8          </td></tr>\n",
       "\t<tr><td> 0.062742060</td><td> 0.008299762</td><td>0.11718436  </td><td>1291        </td><td> 9          </td></tr>\n",
       "\t<tr><td> 0.081439394</td><td> 0.021324911</td><td>0.14155388  </td><td>1056        </td><td>10          </td></tr>\n",
       "\t<tr><td> 0.081952118</td><td> 0.040037757</td><td>0.12386648  </td><td>2172        </td><td>11          </td></tr>\n",
       "\t<tr><td> 0.011627907</td><td>-0.074650448</td><td>0.09790626  </td><td> 516        </td><td>12          </td></tr>\n",
       "</tbody>\n",
       "</table>\n"
      ],
      "text/latex": [
       "\\begin{tabular}{r|lllll}\n",
       " estimate & low & high & sample\\_size & poll\\\\\n",
       "\\hline\n",
       "\t  0.095531587 &  0.041377919 & 0.14968526   & 1298         &  1          \\\\\n",
       "\t  0.091932458 &  0.007394952 & 0.17646996   &  533         &  2          \\\\\n",
       "\t  0.026825633 & -0.026658319 & 0.08030959   & 1342         &  3          \\\\\n",
       "\t -0.023411371 & -0.088835930 & 0.04201319   &  897         &  4          \\\\\n",
       "\t  0.054263566 & -0.016083380 & 0.12461051   &  774         &  5          \\\\\n",
       "\t  0.007874016 & -0.115103510 & 0.13085154   &  254         &  6          \\\\\n",
       "\t  0.034482759 & -0.034258852 & 0.10322437   &  812         &  7          \\\\\n",
       "\t  0.024691358 & -0.084164333 & 0.13354705   &  324         &  8          \\\\\n",
       "\t  0.062742060 &  0.008299762 & 0.11718436   & 1291         &  9          \\\\\n",
       "\t  0.081439394 &  0.021324911 & 0.14155388   & 1056         & 10          \\\\\n",
       "\t  0.081952118 &  0.040037757 & 0.12386648   & 2172         & 11          \\\\\n",
       "\t  0.011627907 & -0.074650448 & 0.09790626   &  516         & 12          \\\\\n",
       "\\end{tabular}\n"
      ],
      "text/markdown": [
       "\n",
       "| estimate | low | high | sample_size | poll |\n",
       "|---|---|---|---|---|\n",
       "|  0.095531587 |  0.041377919 | 0.14968526   | 1298         |  1           |\n",
       "|  0.091932458 |  0.007394952 | 0.17646996   |  533         |  2           |\n",
       "|  0.026825633 | -0.026658319 | 0.08030959   | 1342         |  3           |\n",
       "| -0.023411371 | -0.088835930 | 0.04201319   |  897         |  4           |\n",
       "|  0.054263566 | -0.016083380 | 0.12461051   |  774         |  5           |\n",
       "|  0.007874016 | -0.115103510 | 0.13085154   |  254         |  6           |\n",
       "|  0.034482759 | -0.034258852 | 0.10322437   |  812         |  7           |\n",
       "|  0.024691358 | -0.084164333 | 0.13354705   |  324         |  8           |\n",
       "|  0.062742060 |  0.008299762 | 0.11718436   | 1291         |  9           |\n",
       "|  0.081439394 |  0.021324911 | 0.14155388   | 1056         | 10           |\n",
       "|  0.081952118 |  0.040037757 | 0.12386648   | 2172         | 11           |\n",
       "|  0.011627907 | -0.074650448 | 0.09790626   |  516         | 12           |\n",
       "\n"
      ],
      "text/plain": [
       "   estimate     low          high       sample_size poll\n",
       "1   0.095531587  0.041377919 0.14968526 1298         1  \n",
       "2   0.091932458  0.007394952 0.17646996  533         2  \n",
       "3   0.026825633 -0.026658319 0.08030959 1342         3  \n",
       "4  -0.023411371 -0.088835930 0.04201319  897         4  \n",
       "5   0.054263566 -0.016083380 0.12461051  774         5  \n",
       "6   0.007874016 -0.115103510 0.13085154  254         6  \n",
       "7   0.034482759 -0.034258852 0.10322437  812         7  \n",
       "8   0.024691358 -0.084164333 0.13354705  324         8  \n",
       "9   0.062742060  0.008299762 0.11718436 1291         9  \n",
       "10  0.081439394  0.021324911 0.14155388 1056        10  \n",
       "11  0.081952118  0.040037757 0.12386648 2172        11  \n",
       "12  0.011627907 -0.074650448 0.09790626  516        12  "
      ]
     },
     "metadata": {},
     "output_type": "display_data"
    }
   ],
   "source": [
    "d <- 0.039\n",
    "Ns <- c(1298, 533, 1342, 897, 774, 254, 812, 324, 1291, 1056, 2172, 516)\n",
    "p <- (d + 1) / 2\n",
    "\n",
    "polls <- map_df(Ns, function(N) {\n",
    "  x <- sample(c(0,1), size=N,    replace=TRUE, prob=c(1-p, p))\n",
    "  x_hat <- mean(x)\n",
    "  se_hat <- sqrt(x_hat * (1 - x_hat) / N)\n",
    "  list(estimate = 2 * x_hat - 1,\n",
    "       low = 2*(x_hat - 1.96*se_hat) - 1,\n",
    "       high = 2*(x_hat + 1.96*se_hat) - 1,\n",
    "       sample_size = N)\n",
    "}) %>% mutate(poll = seq_along(Ns))\n",
    "\n",
    "polls"
   ]
  },
  {
   "cell_type": "code",
   "execution_count": null,
   "metadata": {},
   "outputs": [],
   "source": []
  },
  {
   "cell_type": "code",
   "execution_count": null,
   "metadata": {},
   "outputs": [],
   "source": []
  },
  {
   "cell_type": "code",
   "execution_count": null,
   "metadata": {},
   "outputs": [],
   "source": []
  },
  {
   "cell_type": "code",
   "execution_count": null,
   "metadata": {},
   "outputs": [],
   "source": []
  }
 ],
 "metadata": {
  "kernelspec": {
   "display_name": "R",
   "language": "R",
   "name": "ir"
  },
  "language_info": {
   "codemirror_mode": "r",
   "file_extension": ".r",
   "mimetype": "text/x-r-source",
   "name": "R",
   "pygments_lexer": "r",
   "version": "3.6.1"
  }
 },
 "nbformat": 4,
 "nbformat_minor": 4
}
