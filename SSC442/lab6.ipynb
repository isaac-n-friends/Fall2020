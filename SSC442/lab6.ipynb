{
 "cells": [
  {
   "cell_type": "markdown",
   "metadata": {},
   "source": [
    "# Lab 6 \n",
    "## SSC442\n",
    "### Isaac Updike \n",
    "### 10/10/2020"
   ]
  },
  {
   "cell_type": "code",
   "execution_count": 32,
   "metadata": {},
   "outputs": [],
   "source": [
    "library(dslabs)\n",
    "library(ggplot2)\n",
    "library(dplyr)"
   ]
  },
  {
   "cell_type": "markdown",
   "metadata": {},
   "source": [
    "Starter Code for grabbing the data:"
   ]
  },
  {
   "cell_type": "code",
   "execution_count": 33,
   "metadata": {},
   "outputs": [],
   "source": [
    "ameslist <- read.table(\"https://msudataanalytics.github.io/SSC442/Labs/data/ames.csv\",\n",
    "                 header = TRUE,\n",
    "                 sep = \",\")\n"
   ]
  },
  {
   "cell_type": "markdown",
   "metadata": {},
   "source": [
    "I like to take a quick peak"
   ]
  },
  {
   "cell_type": "code",
   "execution_count": 34,
   "metadata": {},
   "outputs": [
    {
     "data": {
      "text/html": [
       "<ol class=list-inline>\n",
       "\t<li>'Id'</li>\n",
       "\t<li>'MSSubClass'</li>\n",
       "\t<li>'MSZoning'</li>\n",
       "\t<li>'LotFrontage'</li>\n",
       "\t<li>'LotArea'</li>\n",
       "\t<li>'Street'</li>\n",
       "\t<li>'Alley'</li>\n",
       "\t<li>'LotShape'</li>\n",
       "\t<li>'LandContour'</li>\n",
       "\t<li>'Utilities'</li>\n",
       "\t<li>'LotConfig'</li>\n",
       "\t<li>'LandSlope'</li>\n",
       "\t<li>'Neighborhood'</li>\n",
       "\t<li>'Condition1'</li>\n",
       "\t<li>'Condition2'</li>\n",
       "\t<li>'BldgType'</li>\n",
       "\t<li>'HouseStyle'</li>\n",
       "\t<li>'OverallQual'</li>\n",
       "\t<li>'OverallCond'</li>\n",
       "\t<li>'YearBuilt'</li>\n",
       "\t<li>'YearRemodAdd'</li>\n",
       "\t<li>'RoofStyle'</li>\n",
       "\t<li>'RoofMatl'</li>\n",
       "\t<li>'Exterior1st'</li>\n",
       "\t<li>'Exterior2nd'</li>\n",
       "\t<li>'MasVnrType'</li>\n",
       "\t<li>'MasVnrArea'</li>\n",
       "\t<li>'ExterQual'</li>\n",
       "\t<li>'ExterCond'</li>\n",
       "\t<li>'Foundation'</li>\n",
       "\t<li>'BsmtQual'</li>\n",
       "\t<li>'BsmtCond'</li>\n",
       "\t<li>'BsmtExposure'</li>\n",
       "\t<li>'BsmtFinType1'</li>\n",
       "\t<li>'BsmtFinSF1'</li>\n",
       "\t<li>'BsmtFinType2'</li>\n",
       "\t<li>'BsmtFinSF2'</li>\n",
       "\t<li>'BsmtUnfSF'</li>\n",
       "\t<li>'TotalBsmtSF'</li>\n",
       "\t<li>'Heating'</li>\n",
       "\t<li>'HeatingQC'</li>\n",
       "\t<li>'CentralAir'</li>\n",
       "\t<li>'Electrical'</li>\n",
       "\t<li>'X1stFlrSF'</li>\n",
       "\t<li>'X2ndFlrSF'</li>\n",
       "\t<li>'LowQualFinSF'</li>\n",
       "\t<li>'GrLivArea'</li>\n",
       "\t<li>'BsmtFullBath'</li>\n",
       "\t<li>'BsmtHalfBath'</li>\n",
       "\t<li>'FullBath'</li>\n",
       "\t<li>'HalfBath'</li>\n",
       "\t<li>'BedroomAbvGr'</li>\n",
       "\t<li>'KitchenAbvGr'</li>\n",
       "\t<li>'KitchenQual'</li>\n",
       "\t<li>'TotRmsAbvGrd'</li>\n",
       "\t<li>'Functional'</li>\n",
       "\t<li>'Fireplaces'</li>\n",
       "\t<li>'FireplaceQu'</li>\n",
       "\t<li>'GarageType'</li>\n",
       "\t<li>'GarageYrBlt'</li>\n",
       "\t<li>'GarageFinish'</li>\n",
       "\t<li>'GarageCars'</li>\n",
       "\t<li>'GarageArea'</li>\n",
       "\t<li>'GarageQual'</li>\n",
       "\t<li>'GarageCond'</li>\n",
       "\t<li>'PavedDrive'</li>\n",
       "\t<li>'WoodDeckSF'</li>\n",
       "\t<li>'OpenPorchSF'</li>\n",
       "\t<li>'EnclosedPorch'</li>\n",
       "\t<li>'X3SsnPorch'</li>\n",
       "\t<li>'ScreenPorch'</li>\n",
       "\t<li>'PoolArea'</li>\n",
       "\t<li>'PoolQC'</li>\n",
       "\t<li>'Fence'</li>\n",
       "\t<li>'MiscFeature'</li>\n",
       "\t<li>'MiscVal'</li>\n",
       "\t<li>'MoSold'</li>\n",
       "\t<li>'YrSold'</li>\n",
       "\t<li>'SaleType'</li>\n",
       "\t<li>'SaleCondition'</li>\n",
       "\t<li>'SalePrice'</li>\n",
       "</ol>\n"
      ],
      "text/latex": [
       "\\begin{enumerate*}\n",
       "\\item 'Id'\n",
       "\\item 'MSSubClass'\n",
       "\\item 'MSZoning'\n",
       "\\item 'LotFrontage'\n",
       "\\item 'LotArea'\n",
       "\\item 'Street'\n",
       "\\item 'Alley'\n",
       "\\item 'LotShape'\n",
       "\\item 'LandContour'\n",
       "\\item 'Utilities'\n",
       "\\item 'LotConfig'\n",
       "\\item 'LandSlope'\n",
       "\\item 'Neighborhood'\n",
       "\\item 'Condition1'\n",
       "\\item 'Condition2'\n",
       "\\item 'BldgType'\n",
       "\\item 'HouseStyle'\n",
       "\\item 'OverallQual'\n",
       "\\item 'OverallCond'\n",
       "\\item 'YearBuilt'\n",
       "\\item 'YearRemodAdd'\n",
       "\\item 'RoofStyle'\n",
       "\\item 'RoofMatl'\n",
       "\\item 'Exterior1st'\n",
       "\\item 'Exterior2nd'\n",
       "\\item 'MasVnrType'\n",
       "\\item 'MasVnrArea'\n",
       "\\item 'ExterQual'\n",
       "\\item 'ExterCond'\n",
       "\\item 'Foundation'\n",
       "\\item 'BsmtQual'\n",
       "\\item 'BsmtCond'\n",
       "\\item 'BsmtExposure'\n",
       "\\item 'BsmtFinType1'\n",
       "\\item 'BsmtFinSF1'\n",
       "\\item 'BsmtFinType2'\n",
       "\\item 'BsmtFinSF2'\n",
       "\\item 'BsmtUnfSF'\n",
       "\\item 'TotalBsmtSF'\n",
       "\\item 'Heating'\n",
       "\\item 'HeatingQC'\n",
       "\\item 'CentralAir'\n",
       "\\item 'Electrical'\n",
       "\\item 'X1stFlrSF'\n",
       "\\item 'X2ndFlrSF'\n",
       "\\item 'LowQualFinSF'\n",
       "\\item 'GrLivArea'\n",
       "\\item 'BsmtFullBath'\n",
       "\\item 'BsmtHalfBath'\n",
       "\\item 'FullBath'\n",
       "\\item 'HalfBath'\n",
       "\\item 'BedroomAbvGr'\n",
       "\\item 'KitchenAbvGr'\n",
       "\\item 'KitchenQual'\n",
       "\\item 'TotRmsAbvGrd'\n",
       "\\item 'Functional'\n",
       "\\item 'Fireplaces'\n",
       "\\item 'FireplaceQu'\n",
       "\\item 'GarageType'\n",
       "\\item 'GarageYrBlt'\n",
       "\\item 'GarageFinish'\n",
       "\\item 'GarageCars'\n",
       "\\item 'GarageArea'\n",
       "\\item 'GarageQual'\n",
       "\\item 'GarageCond'\n",
       "\\item 'PavedDrive'\n",
       "\\item 'WoodDeckSF'\n",
       "\\item 'OpenPorchSF'\n",
       "\\item 'EnclosedPorch'\n",
       "\\item 'X3SsnPorch'\n",
       "\\item 'ScreenPorch'\n",
       "\\item 'PoolArea'\n",
       "\\item 'PoolQC'\n",
       "\\item 'Fence'\n",
       "\\item 'MiscFeature'\n",
       "\\item 'MiscVal'\n",
       "\\item 'MoSold'\n",
       "\\item 'YrSold'\n",
       "\\item 'SaleType'\n",
       "\\item 'SaleCondition'\n",
       "\\item 'SalePrice'\n",
       "\\end{enumerate*}\n"
      ],
      "text/markdown": [
       "1. 'Id'\n",
       "2. 'MSSubClass'\n",
       "3. 'MSZoning'\n",
       "4. 'LotFrontage'\n",
       "5. 'LotArea'\n",
       "6. 'Street'\n",
       "7. 'Alley'\n",
       "8. 'LotShape'\n",
       "9. 'LandContour'\n",
       "10. 'Utilities'\n",
       "11. 'LotConfig'\n",
       "12. 'LandSlope'\n",
       "13. 'Neighborhood'\n",
       "14. 'Condition1'\n",
       "15. 'Condition2'\n",
       "16. 'BldgType'\n",
       "17. 'HouseStyle'\n",
       "18. 'OverallQual'\n",
       "19. 'OverallCond'\n",
       "20. 'YearBuilt'\n",
       "21. 'YearRemodAdd'\n",
       "22. 'RoofStyle'\n",
       "23. 'RoofMatl'\n",
       "24. 'Exterior1st'\n",
       "25. 'Exterior2nd'\n",
       "26. 'MasVnrType'\n",
       "27. 'MasVnrArea'\n",
       "28. 'ExterQual'\n",
       "29. 'ExterCond'\n",
       "30. 'Foundation'\n",
       "31. 'BsmtQual'\n",
       "32. 'BsmtCond'\n",
       "33. 'BsmtExposure'\n",
       "34. 'BsmtFinType1'\n",
       "35. 'BsmtFinSF1'\n",
       "36. 'BsmtFinType2'\n",
       "37. 'BsmtFinSF2'\n",
       "38. 'BsmtUnfSF'\n",
       "39. 'TotalBsmtSF'\n",
       "40. 'Heating'\n",
       "41. 'HeatingQC'\n",
       "42. 'CentralAir'\n",
       "43. 'Electrical'\n",
       "44. 'X1stFlrSF'\n",
       "45. 'X2ndFlrSF'\n",
       "46. 'LowQualFinSF'\n",
       "47. 'GrLivArea'\n",
       "48. 'BsmtFullBath'\n",
       "49. 'BsmtHalfBath'\n",
       "50. 'FullBath'\n",
       "51. 'HalfBath'\n",
       "52. 'BedroomAbvGr'\n",
       "53. 'KitchenAbvGr'\n",
       "54. 'KitchenQual'\n",
       "55. 'TotRmsAbvGrd'\n",
       "56. 'Functional'\n",
       "57. 'Fireplaces'\n",
       "58. 'FireplaceQu'\n",
       "59. 'GarageType'\n",
       "60. 'GarageYrBlt'\n",
       "61. 'GarageFinish'\n",
       "62. 'GarageCars'\n",
       "63. 'GarageArea'\n",
       "64. 'GarageQual'\n",
       "65. 'GarageCond'\n",
       "66. 'PavedDrive'\n",
       "67. 'WoodDeckSF'\n",
       "68. 'OpenPorchSF'\n",
       "69. 'EnclosedPorch'\n",
       "70. 'X3SsnPorch'\n",
       "71. 'ScreenPorch'\n",
       "72. 'PoolArea'\n",
       "73. 'PoolQC'\n",
       "74. 'Fence'\n",
       "75. 'MiscFeature'\n",
       "76. 'MiscVal'\n",
       "77. 'MoSold'\n",
       "78. 'YrSold'\n",
       "79. 'SaleType'\n",
       "80. 'SaleCondition'\n",
       "81. 'SalePrice'\n",
       "\n",
       "\n"
      ],
      "text/plain": [
       " [1] \"Id\"            \"MSSubClass\"    \"MSZoning\"      \"LotFrontage\"  \n",
       " [5] \"LotArea\"       \"Street\"        \"Alley\"         \"LotShape\"     \n",
       " [9] \"LandContour\"   \"Utilities\"     \"LotConfig\"     \"LandSlope\"    \n",
       "[13] \"Neighborhood\"  \"Condition1\"    \"Condition2\"    \"BldgType\"     \n",
       "[17] \"HouseStyle\"    \"OverallQual\"   \"OverallCond\"   \"YearBuilt\"    \n",
       "[21] \"YearRemodAdd\"  \"RoofStyle\"     \"RoofMatl\"      \"Exterior1st\"  \n",
       "[25] \"Exterior2nd\"   \"MasVnrType\"    \"MasVnrArea\"    \"ExterQual\"    \n",
       "[29] \"ExterCond\"     \"Foundation\"    \"BsmtQual\"      \"BsmtCond\"     \n",
       "[33] \"BsmtExposure\"  \"BsmtFinType1\"  \"BsmtFinSF1\"    \"BsmtFinType2\" \n",
       "[37] \"BsmtFinSF2\"    \"BsmtUnfSF\"     \"TotalBsmtSF\"   \"Heating\"      \n",
       "[41] \"HeatingQC\"     \"CentralAir\"    \"Electrical\"    \"X1stFlrSF\"    \n",
       "[45] \"X2ndFlrSF\"     \"LowQualFinSF\"  \"GrLivArea\"     \"BsmtFullBath\" \n",
       "[49] \"BsmtHalfBath\"  \"FullBath\"      \"HalfBath\"      \"BedroomAbvGr\" \n",
       "[53] \"KitchenAbvGr\"  \"KitchenQual\"   \"TotRmsAbvGrd\"  \"Functional\"   \n",
       "[57] \"Fireplaces\"    \"FireplaceQu\"   \"GarageType\"    \"GarageYrBlt\"  \n",
       "[61] \"GarageFinish\"  \"GarageCars\"    \"GarageArea\"    \"GarageQual\"   \n",
       "[65] \"GarageCond\"    \"PavedDrive\"    \"WoodDeckSF\"    \"OpenPorchSF\"  \n",
       "[69] \"EnclosedPorch\" \"X3SsnPorch\"    \"ScreenPorch\"   \"PoolArea\"     \n",
       "[73] \"PoolQC\"        \"Fence\"         \"MiscFeature\"   \"MiscVal\"      \n",
       "[77] \"MoSold\"        \"YrSold\"        \"SaleType\"      \"SaleCondition\"\n",
       "[81] \"SalePrice\"    "
      ]
     },
     "metadata": {},
     "output_type": "display_data"
    },
    {
     "data": {
      "text/html": [
       "<table>\n",
       "<thead><tr><th scope=col>Id</th><th scope=col>MSSubClass</th><th scope=col>MSZoning</th><th scope=col>LotFrontage</th><th scope=col>LotArea</th><th scope=col>Street</th><th scope=col>Alley</th><th scope=col>LotShape</th><th scope=col>LandContour</th><th scope=col>Utilities</th><th scope=col>...</th><th scope=col>PoolArea</th><th scope=col>PoolQC</th><th scope=col>Fence</th><th scope=col>MiscFeature</th><th scope=col>MiscVal</th><th scope=col>MoSold</th><th scope=col>YrSold</th><th scope=col>SaleType</th><th scope=col>SaleCondition</th><th scope=col>SalePrice</th></tr></thead>\n",
       "<tbody>\n",
       "\t<tr><td>1     </td><td>60    </td><td>RL    </td><td>65    </td><td> 8450 </td><td>Pave  </td><td>NA    </td><td>Reg   </td><td>Lvl   </td><td>AllPub</td><td>...   </td><td>0     </td><td>NA    </td><td>NA    </td><td>NA    </td><td>0     </td><td>2     </td><td>2008  </td><td>WD    </td><td>Normal</td><td>208500</td></tr>\n",
       "\t<tr><td>2     </td><td>20    </td><td>RL    </td><td>80    </td><td> 9600 </td><td>Pave  </td><td>NA    </td><td>Reg   </td><td>Lvl   </td><td>AllPub</td><td>...   </td><td>0     </td><td>NA    </td><td>NA    </td><td>NA    </td><td>0     </td><td>5     </td><td>2007  </td><td>WD    </td><td>Normal</td><td>181500</td></tr>\n",
       "\t<tr><td>3     </td><td>60    </td><td>RL    </td><td>68    </td><td>11250 </td><td>Pave  </td><td>NA    </td><td>IR1   </td><td>Lvl   </td><td>AllPub</td><td>...   </td><td>0     </td><td>NA    </td><td>NA    </td><td>NA    </td><td>0     </td><td>9     </td><td>2008  </td><td>WD    </td><td>Normal</td><td>223500</td></tr>\n",
       "</tbody>\n",
       "</table>\n"
      ],
      "text/latex": [
       "\\begin{tabular}{r|lllllllllllllllllllllllllllllllllllllllllllllllllllllllllllllllllllllllllllllllll}\n",
       " Id & MSSubClass & MSZoning & LotFrontage & LotArea & Street & Alley & LotShape & LandContour & Utilities & ... & PoolArea & PoolQC & Fence & MiscFeature & MiscVal & MoSold & YrSold & SaleType & SaleCondition & SalePrice\\\\\n",
       "\\hline\n",
       "\t 1      & 60     & RL     & 65     &  8450  & Pave   & NA     & Reg    & Lvl    & AllPub & ...    & 0      & NA     & NA     & NA     & 0      & 2      & 2008   & WD     & Normal & 208500\\\\\n",
       "\t 2      & 20     & RL     & 80     &  9600  & Pave   & NA     & Reg    & Lvl    & AllPub & ...    & 0      & NA     & NA     & NA     & 0      & 5      & 2007   & WD     & Normal & 181500\\\\\n",
       "\t 3      & 60     & RL     & 68     & 11250  & Pave   & NA     & IR1    & Lvl    & AllPub & ...    & 0      & NA     & NA     & NA     & 0      & 9      & 2008   & WD     & Normal & 223500\\\\\n",
       "\\end{tabular}\n"
      ],
      "text/markdown": [
       "\n",
       "| Id | MSSubClass | MSZoning | LotFrontage | LotArea | Street | Alley | LotShape | LandContour | Utilities | ... | PoolArea | PoolQC | Fence | MiscFeature | MiscVal | MoSold | YrSold | SaleType | SaleCondition | SalePrice |\n",
       "|---|---|---|---|---|---|---|---|---|---|---|---|---|---|---|---|---|---|---|---|---|\n",
       "| 1      | 60     | RL     | 65     |  8450  | Pave   | NA     | Reg    | Lvl    | AllPub | ...    | 0      | NA     | NA     | NA     | 0      | 2      | 2008   | WD     | Normal | 208500 |\n",
       "| 2      | 20     | RL     | 80     |  9600  | Pave   | NA     | Reg    | Lvl    | AllPub | ...    | 0      | NA     | NA     | NA     | 0      | 5      | 2007   | WD     | Normal | 181500 |\n",
       "| 3      | 60     | RL     | 68     | 11250  | Pave   | NA     | IR1    | Lvl    | AllPub | ...    | 0      | NA     | NA     | NA     | 0      | 9      | 2008   | WD     | Normal | 223500 |\n",
       "\n"
      ],
      "text/plain": [
       "  Id MSSubClass MSZoning LotFrontage LotArea Street Alley LotShape LandContour\n",
       "1 1  60         RL       65           8450   Pave   NA    Reg      Lvl        \n",
       "2 2  20         RL       80           9600   Pave   NA    Reg      Lvl        \n",
       "3 3  60         RL       68          11250   Pave   NA    IR1      Lvl        \n",
       "  Utilities ... PoolArea PoolQC Fence MiscFeature MiscVal MoSold YrSold\n",
       "1 AllPub    ... 0        NA     NA    NA          0       2      2008  \n",
       "2 AllPub    ... 0        NA     NA    NA          0       5      2007  \n",
       "3 AllPub    ... 0        NA     NA    NA          0       9      2008  \n",
       "  SaleType SaleCondition SalePrice\n",
       "1 WD       Normal        208500   \n",
       "2 WD       Normal        181500   \n",
       "3 WD       Normal        223500   "
      ]
     },
     "metadata": {},
     "output_type": "display_data"
    }
   ],
   "source": [
    "colnames(ameslist)\n",
    "head(ameslist,3)"
   ]
  },
  {
   "cell_type": "markdown",
   "metadata": {},
   "source": [
    "Starter code making a linear regression model relating GrLivArea to SalePrice, then putting the model directly into the plot function to get some data on model fit "
   ]
  },
  {
   "cell_type": "code",
   "execution_count": 35,
   "metadata": {
    "scrolled": false
   },
   "outputs": [],
   "source": [
    "lm.fit = lm(SalePrice ~ GrLivArea, data=ameslist)\n",
    "\n",
    "#plot(lm.fit)  #uncomment to show plotted residuals,Q-Q, etc\n",
    "\n",
    "#plot(SalePrice ~ GrLivArea, data = ameslist, cex = 2) # plot data points\n",
    "#abline(lm.fit, lwd = 3, col = \"red\") # add regression line"
   ]
  },
  {
   "cell_type": "markdown",
   "metadata": {},
   "source": [
    "## Part 1: The value of a garage\n",
    "\n",
    "Lets start by creating a dummy variable denoting whether there is a garage, which we determine to be false if garagecars = 0.  \n",
    "  \n",
    "We then create a simple linear model where the coeficient on cars describes the value difference estimated between a house with and without a garage. We estimate garages are estimated to be worth 82162 on average."
   ]
  },
  {
   "cell_type": "code",
   "execution_count": 36,
   "metadata": {},
   "outputs": [
    {
     "data": {
      "text/plain": [
       "\n",
       "Call:\n",
       "lm(formula = SalePrice ~ hasgarage, data = garage)\n",
       "\n",
       "Residuals:\n",
       "    Min      1Q  Median      3Q     Max \n",
       "-150169  -50480  -16398   29920  569520 \n",
       "\n",
       "Coefficients:\n",
       "            Estimate Std. Error t value Pr(>|t|)    \n",
       "(Intercept)   103317       8579  12.043   <2e-16 ***\n",
       "hasgarage      82162       8827   9.308   <2e-16 ***\n",
       "---\n",
       "Signif. codes:  0 '***' 0.001 '**' 0.01 '*' 0.05 '.' 0.1 ' ' 1\n",
       "\n",
       "Residual standard error: 77210 on 1458 degrees of freedom\n",
       "Multiple R-squared:  0.05609,\tAdjusted R-squared:  0.05544 \n",
       "F-statistic: 86.64 on 1 and 1458 DF,  p-value: < 2.2e-16\n"
      ]
     },
     "metadata": {},
     "output_type": "display_data"
    }
   ],
   "source": [
    "garage <- ameslist %>%\n",
    "    \n",
    "    mutate(hasgarage = if_else(GarageCars==0,0,1)) %>%\n",
    "    select(SalePrice,hasgarage)\n",
    "\n",
    "garagemod <- lm(SalePrice ~ hasgarage,data=garage)\n",
    "summary(garagemod)\n"
   ]
  },
  {
   "cell_type": "markdown",
   "metadata": {},
   "source": [
    "## 2. Multiple regression\n",
    "\n",
    "Lets start by just selecting the numeric columns to regress. If we wanted to include categorical variables, maybe we could use dummies, but that'd be a lotta dummies. The . tells lm to use all other variables in df other than SalePrice. "
   ]
  },
  {
   "cell_type": "code",
   "execution_count": 37,
   "metadata": {},
   "outputs": [
    {
     "data": {
      "text/plain": [
       "\n",
       "Call:\n",
       "lm(formula = SalePrice ~ ., data = df)\n",
       "\n",
       "Residuals:\n",
       "    Min      1Q  Median      3Q     Max \n",
       "-442182  -16955   -2824   15125  318183 \n",
       "\n",
       "Coefficients: (2 not defined because of singularities)\n",
       "                Estimate Std. Error t value Pr(>|t|)    \n",
       "(Intercept)   -3.351e+05  1.701e+06  -0.197 0.843909    \n",
       "Id            -1.205e+00  2.658e+00  -0.453 0.650332    \n",
       "MSSubClass    -2.001e+02  3.451e+01  -5.797 8.84e-09 ***\n",
       "LotFrontage   -1.160e+02  6.126e+01  -1.894 0.058503 .  \n",
       "LotArea        5.422e-01  1.575e-01   3.442 0.000599 ***\n",
       "OverallQual    1.866e+04  1.482e+03  12.592  < 2e-16 ***\n",
       "OverallCond    5.239e+03  1.368e+03   3.830 0.000135 ***\n",
       "YearBuilt      3.164e+02  8.766e+01   3.610 0.000321 ***\n",
       "YearRemodAdd   1.194e+02  8.668e+01   1.378 0.168607    \n",
       "MasVnrArea     3.141e+01  7.022e+00   4.473 8.54e-06 ***\n",
       "BsmtFinSF1     1.736e+01  5.838e+00   2.973 0.003014 ** \n",
       "BsmtFinSF2     8.342e+00  8.766e+00   0.952 0.341532    \n",
       "BsmtUnfSF      5.005e+00  5.277e+00   0.948 0.343173    \n",
       "TotalBsmtSF           NA         NA      NA       NA    \n",
       "X1stFlrSF      4.597e+01  7.360e+00   6.246 6.02e-10 ***\n",
       "X2ndFlrSF      4.663e+01  6.102e+00   7.641 4.72e-14 ***\n",
       "LowQualFinSF   3.341e+01  2.794e+01   1.196 0.232009    \n",
       "GrLivArea             NA         NA      NA       NA    \n",
       "BsmtFullBath   9.043e+03  3.198e+03   2.828 0.004776 ** \n",
       "BsmtHalfBath   2.465e+03  5.073e+03   0.486 0.627135    \n",
       "FullBath       5.433e+03  3.531e+03   1.539 0.124182    \n",
       "HalfBath      -1.098e+03  3.321e+03  -0.331 0.740945    \n",
       "BedroomAbvGr  -1.022e+04  2.155e+03  -4.742 2.40e-06 ***\n",
       "KitchenAbvGr  -2.202e+04  6.710e+03  -3.282 0.001063 ** \n",
       "TotRmsAbvGrd   5.464e+03  1.487e+03   3.674 0.000251 ***\n",
       "Fireplaces     4.372e+03  2.189e+03   1.998 0.046020 *  \n",
       "GarageYrBlt   -4.728e+01  9.106e+01  -0.519 0.603742    \n",
       "GarageCars     1.685e+04  3.491e+03   4.827 1.58e-06 ***\n",
       "GarageArea     6.274e+00  1.213e+01   0.517 0.605002    \n",
       "WoodDeckSF     2.144e+01  1.002e+01   2.139 0.032662 *  \n",
       "OpenPorchSF   -2.252e+00  1.949e+01  -0.116 0.907998    \n",
       "EnclosedPorch  7.295e+00  2.062e+01   0.354 0.723590    \n",
       "X3SsnPorch     3.349e+01  3.758e+01   0.891 0.373163    \n",
       "ScreenPorch    5.805e+01  2.041e+01   2.844 0.004532 ** \n",
       "PoolArea      -6.052e+01  2.990e+01  -2.024 0.043204 *  \n",
       "MiscVal       -3.761e+00  6.960e+00  -0.540 0.589016    \n",
       "MoSold        -2.217e+02  4.229e+02  -0.524 0.600188    \n",
       "YrSold        -2.474e+02  8.458e+02  -0.293 0.769917    \n",
       "---\n",
       "Signif. codes:  0 '***' 0.001 '**' 0.01 '*' 0.05 '.' 0.1 ' ' 1\n",
       "\n",
       "Residual standard error: 36800 on 1085 degrees of freedom\n",
       "  (339 observations deleted due to missingness)\n",
       "Multiple R-squared:  0.8096,\tAdjusted R-squared:  0.8034 \n",
       "F-statistic: 131.8 on 35 and 1085 DF,  p-value: < 2.2e-16\n"
      ]
     },
     "metadata": {},
     "output_type": "display_data"
    }
   ],
   "source": [
    "#cols <- colnames(ameslist)\n",
    "#cols <- cols[!cols == \"SalePrice\"]\n",
    "df <- select_if(ameslist, is.numeric)\n",
    "mod <- lm(SalePrice ~ ., data = df)\n",
    "summary(mod)\n",
    "#summary(mod)[[\"coefficients\"]][,\"t value\"] # inspect just the t-values"
   ]
  },
  {
   "cell_type": "markdown",
   "metadata": {},
   "source": [
    "Several predictors appear strongly related to the responce. the * , ** , and *** tags in the summary denote significance at the 5%, 1% and 0.1% levels. Some of the predictors with the highest statistical significance are MSSubClass, LotArea, OverallQual, OverallCond, YearBuilt, MasVnrArea, X1stFlrSF, X2ndFlrSF, BedroomAbvGr, TotRmsAbvGrd, and GarageCars.  \n",
    "  \n",
    "There are several variables with 'year' in the name but only YearBuilt is signicant. The coeficient of YearBuilt is 316.4, meaning for a 1 unit increase in year (or a house 1 year newer), there is an expected $316.4 increase in sale price.  \n",
    "  \n",
    "Two variables have been omitted from the model, supposedly because of \"singularities\". Didn't know R was into the matrix. We can incpect co-linearity with allias() to see if variables are perfectly predictive of each other."
   ]
  },
  {
   "cell_type": "code",
   "execution_count": 38,
   "metadata": {},
   "outputs": [
    {
     "data": {
      "text/plain": [
       "Model :\n",
       "SalePrice ~ Id + MSSubClass + LotFrontage + LotArea + OverallQual + \n",
       "    OverallCond + YearBuilt + YearRemodAdd + MasVnrArea + BsmtFinSF1 + \n",
       "    BsmtFinSF2 + BsmtUnfSF + TotalBsmtSF + X1stFlrSF + X2ndFlrSF + \n",
       "    LowQualFinSF + GrLivArea + BsmtFullBath + BsmtHalfBath + \n",
       "    FullBath + HalfBath + BedroomAbvGr + KitchenAbvGr + TotRmsAbvGrd + \n",
       "    Fireplaces + GarageYrBlt + GarageCars + GarageArea + WoodDeckSF + \n",
       "    OpenPorchSF + EnclosedPorch + X3SsnPorch + ScreenPorch + \n",
       "    PoolArea + MiscVal + MoSold + YrSold\n",
       "\n",
       "Complete :\n",
       "            (Intercept) Id MSSubClass LotFrontage LotArea OverallQual\n",
       "TotalBsmtSF 0           0  0          0           0       0          \n",
       "GrLivArea   0           0  0          0           0       0          \n",
       "            OverallCond YearBuilt YearRemodAdd MasVnrArea BsmtFinSF1 BsmtFinSF2\n",
       "TotalBsmtSF 0           0         0            0          1          1         \n",
       "GrLivArea   0           0         0            0          0          0         \n",
       "            BsmtUnfSF X1stFlrSF X2ndFlrSF LowQualFinSF BsmtFullBath\n",
       "TotalBsmtSF 1         0         0         0            0           \n",
       "GrLivArea   0         1         1         1            0           \n",
       "            BsmtHalfBath FullBath HalfBath BedroomAbvGr KitchenAbvGr\n",
       "TotalBsmtSF 0            0        0        0            0           \n",
       "GrLivArea   0            0        0        0            0           \n",
       "            TotRmsAbvGrd Fireplaces GarageYrBlt GarageCars GarageArea\n",
       "TotalBsmtSF 0            0          0           0          0         \n",
       "GrLivArea   0            0          0           0          0         \n",
       "            WoodDeckSF OpenPorchSF EnclosedPorch X3SsnPorch ScreenPorch\n",
       "TotalBsmtSF 0          0           0             0          0          \n",
       "GrLivArea   0          0           0             0          0          \n",
       "            PoolArea MiscVal MoSold YrSold\n",
       "TotalBsmtSF 0        0       0      0     \n",
       "GrLivArea   0        0       0      0     \n"
      ]
     },
     "metadata": {},
     "output_type": "display_data"
    }
   ],
   "source": [
    "alias(mod)"
   ]
  },
  {
   "cell_type": "markdown",
   "metadata": {},
   "source": [
    "\"complete\" tells us that TotalBsmtSF is completely linearly dependent on BsmtFinSF1, BsmtFinSF2, and BsmtUnfSF, and similarly GrLivArea on X1stFlrSF, X2ndFlrSF, and LowQualFinSF."
   ]
  },
  {
   "cell_type": "markdown",
   "metadata": {},
   "source": [
    "## 3. Interactive effects\n",
    "\n",
    "I use the : operator to inspect the interation between TotRmsAbvGrd and FullBath. I conjecture that it is desireable to have a more even ratio of bedrooms and bathrooms, and so testing the interaction between bedrooms and bathrooms might tell us more about the effects of those terms together, and relative to each other."
   ]
  },
  {
   "cell_type": "code",
   "execution_count": 39,
   "metadata": {},
   "outputs": [
    {
     "data": {
      "text/plain": [
       "\n",
       "Call:\n",
       "lm(formula = SalePrice ~ TotRmsAbvGrd + FullBath + TotRmsAbvGrd:FullBath, \n",
       "    data = df)\n",
       "\n",
       "Residuals:\n",
       "    Min      1Q  Median      3Q     Max \n",
       "-206352  -30575   -5034   21221  402874 \n",
       "\n",
       "Coefficients:\n",
       "                      Estimate Std. Error t value Pr(>|t|)    \n",
       "(Intercept)            91027.2    19354.8   4.703 2.81e-06 ***\n",
       "TotRmsAbvGrd            -385.7     3186.7  -0.121    0.904    \n",
       "FullBath               -4176.4    11430.9  -0.365    0.715    \n",
       "TotRmsAbvGrd:FullBath   9249.5     1696.5   5.452 5.83e-08 ***\n",
       "---\n",
       "Signif. codes:  0 '***' 0.001 '**' 0.01 '*' 0.05 '.' 0.1 ' ' 1\n",
       "\n",
       "Residual standard error: 61690 on 1456 degrees of freedom\n",
       "Multiple R-squared:  0.3983,\tAdjusted R-squared:  0.397 \n",
       "F-statistic: 321.2 on 3 and 1456 DF,  p-value: < 2.2e-16\n"
      ]
     },
     "metadata": {},
     "output_type": "display_data"
    }
   ],
   "source": [
    "mod1 <- lm(SalePrice ~ TotRmsAbvGrd + FullBath + TotRmsAbvGrd : FullBath , data = df)\n",
    "\n",
    "summary(mod1)\n"
   ]
  },
  {
   "cell_type": "markdown",
   "metadata": {},
   "source": [
    "## 4. Data transformations\n",
    "\n",
    "We can do quick on the fly transformations inside the lm function.  \n",
    "  \n",
    "  \n",
    "One common reason to use Log(var) in a regression is to capture decreasing returns to scale, succh that as a variable increases, there are diminishing effects on the dependent variable. One variable here that might exhibit that is GaragCars, where going from 3 to 4 car garages might be less of an effect than going from 0 to 1. Since $log(0) = \\text{NA}$ we add 1 to offset **(Double transformation!)**  \n",
    "  \n",
    "Another common technique is to add $\\alpha^{2}$ to a regression to capture a variable whose effect might reverse, such that the effect is modeled by a parabola. We might try adding this term to the YearBuilt variable if we thoughbt that antique (very old) houses might add value, but middle-aged houses are worthless"
   ]
  },
  {
   "cell_type": "code",
   "execution_count": 40,
   "metadata": {},
   "outputs": [
    {
     "data": {
      "text/plain": [
       "\n",
       "Call:\n",
       "lm(formula = SalePrice ~ log(1 + GarageCars) + FullBath + OverallQual, \n",
       "    data = df)\n",
       "\n",
       "Residuals:\n",
       "    Min      1Q  Median      3Q     Max \n",
       "-182022  -27601   -3276   20586  388228 \n",
       "\n",
       "Coefficients:\n",
       "                    Estimate Std. Error t value Pr(>|t|)    \n",
       "(Intercept)          -108539       5510 -19.700  < 2e-16 ***\n",
       "log(1 + GarageCars)    41656       4566   9.124  < 2e-16 ***\n",
       "FullBath               21683       2652   8.175 6.37e-16 ***\n",
       "OverallQual            35252       1152  30.611  < 2e-16 ***\n",
       "---\n",
       "Signif. codes:  0 '***' 0.001 '**' 0.01 '*' 0.05 '.' 0.1 ' ' 1\n",
       "\n",
       "Residual standard error: 45880 on 1456 degrees of freedom\n",
       "Multiple R-squared:  0.6672,\tAdjusted R-squared:  0.6665 \n",
       "F-statistic: 972.8 on 3 and 1456 DF,  p-value: < 2.2e-16\n"
      ]
     },
     "metadata": {},
     "output_type": "display_data"
    },
    {
     "data": {
      "text/plain": [
       "\n",
       "Call:\n",
       "lm(formula = SalePrice ~ YearBuilt^2 + FullBath + OverallQual, \n",
       "    data = df)\n",
       "\n",
       "Residuals:\n",
       "    Min      1Q  Median      3Q     Max \n",
       "-186037  -27741   -2967   20841  387645 \n",
       "\n",
       "Coefficients:\n",
       "              Estimate Std. Error t value Pr(>|t|)    \n",
       "(Intercept) -434766.09   96580.20  -4.502 7.28e-06 ***\n",
       "YearBuilt       175.80      50.95   3.450 0.000576 ***\n",
       "FullBath      23779.61    2744.07   8.666  < 2e-16 ***\n",
       "OverallQual   38022.85    1177.82  32.282  < 2e-16 ***\n",
       "---\n",
       "Signif. codes:  0 '***' 0.001 '**' 0.01 '*' 0.05 '.' 0.1 ' ' 1\n",
       "\n",
       "Residual standard error: 46980 on 1456 degrees of freedom\n",
       "Multiple R-squared:  0.651,\tAdjusted R-squared:  0.6503 \n",
       "F-statistic: 905.2 on 3 and 1456 DF,  p-value: < 2.2e-16\n"
      ]
     },
     "metadata": {},
     "output_type": "display_data"
    }
   ],
   "source": [
    "mod2 <- lm(SalePrice ~ log(1 + GarageCars) + FullBath + OverallQual , data = df)\n",
    "summary(mod2)\n",
    "\n",
    "mod2 <- lm(SalePrice ~  YearBuilt^2 + FullBath + OverallQual , data = df)\n",
    "summary(mod2)\n"
   ]
  }
 ],
 "metadata": {
  "kernelspec": {
   "display_name": "R",
   "language": "R",
   "name": "ir"
  },
  "language_info": {
   "codemirror_mode": "r",
   "file_extension": ".r",
   "mimetype": "text/x-r-source",
   "name": "R",
   "pygments_lexer": "r",
   "version": "3.6.1"
  }
 },
 "nbformat": 4,
 "nbformat_minor": 4
}
