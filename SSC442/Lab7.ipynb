{
 "cells": [
  {
   "cell_type": "markdown",
   "metadata": {},
   "source": [
    "# Lab 7\n",
    "## Isaac Updike\n",
    "### 10/26/20\n"
   ]
  },
  {
   "cell_type": "code",
   "execution_count": 81,
   "metadata": {},
   "outputs": [],
   "source": [
    "#import packages\n",
    "\n",
    "#install.packages('caret')\n",
    "#install.packages('leaps')\n",
    "\n",
    "library(tidyverse)\n",
    "library(caret)\n",
    "library(leaps)\n",
    "library(knitr)\n",
    "library(magrittr)\n",
    "library(MASS)"
   ]
  },
  {
   "cell_type": "code",
   "execution_count": 82,
   "metadata": {},
   "outputs": [
    {
     "data": {
      "text/html": [
       "15"
      ],
      "text/latex": [
       "15"
      ],
      "text/markdown": [
       "15"
      ],
      "text/plain": [
       "[1] 15"
      ]
     },
     "metadata": {},
     "output_type": "display_data"
    }
   ],
   "source": [
    "#load in data from github, use first row as header, commma seperated\n",
    "Ames <- read.table(\"https://msudataanalytics.github.io/SSC442/Labs/data/ames.csv\",\n",
    "                 header = TRUE,\n",
    "                 sep = \",\")\n",
    "\n",
    "\n",
    "\n",
    "# taken from example, slightly different from starter code \n",
    "get_rmse = function(model, data, response) {\n",
    "  rmse(actual = subset(data, select = response, drop = TRUE),\n",
    "       predicted = predict(model, data))\n",
    "}\n",
    "\n",
    "\n",
    "# get rid of the two collumns\n",
    "df = Ames[,!(names(Ames) %in% c(\"OverallCond\",\"OverallQual\"))]\n",
    "\n",
    "#funciton to extract the \n",
    "get_complexity = function(model) {\n",
    "  length(coef(model)) - 1\n",
    "}\n",
    "\n",
    "lm.fit = lm(SalePrice ~ GrLivArea * LotArea * YearBuilt * YearRemodAdd, data=df)\n",
    "\n",
    "mod <- stepAIC(lm.fit, direction = \"forward\", \n",
    "                      trace = FALSE)\n",
    "get_complexity(step.model)"
   ]
  },
  {
   "cell_type": "code",
   "execution_count": 83,
   "metadata": {
    "scrolled": true
   },
   "outputs": [
    {
     "data": {
      "text/html": [
       "39454.2233755843"
      ],
      "text/latex": [
       "39454.2233755843"
      ],
      "text/markdown": [
       "39454.2233755843"
      ],
      "text/plain": [
       "[1] 39454.22"
      ]
     },
     "metadata": {},
     "output_type": "display_data"
    }
   ],
   "source": [
    "rmse(actual = df$SalePrice, predicted = predict(lm.fit, df))\n"
   ]
  },
  {
   "cell_type": "code",
   "execution_count": 84,
   "metadata": {},
   "outputs": [],
   "source": [
    "lm.fit1 = lm(SalePrice ~ GrLivArea * LotArea * PoolArea * Fireplaces, data=df)\n",
    "\n",
    "mod1 <- stepAIC(lm.fit1, direction = \"forward\", \n",
    "                      trace = FALSE)\n",
    "\n",
    "lm.fit2 = lm(SalePrice ~ HalfBath * TotRmsAbvGrd * BsmtFullBath * PoolArea, data=df)\n",
    "\n",
    "mod2 <- stepAIC(lm.fit2, direction = \"forward\", \n",
    "                      trace = FALSE)\n",
    "lm.fit3 = lm(SalePrice ~ BsmtFullBath * X2ndFlrSF, data=df)\n",
    "\n",
    "mod3 <- stepAIC(lm.fit3, direction = \"forward\", \n",
    "                      trace = FALSE)\n",
    "lm.fit4 = lm(SalePrice ~ ScreenPorch * LotArea * YrSold, data=df)\n",
    "\n",
    "mod4 <- stepAIC(lm.fit4, direction = \"forward\", \n",
    "                      trace = FALSE)\n",
    "lm.fit5 = lm(SalePrice ~  MoSold, data=df)\n",
    "\n",
    "mod5 <- stepAIC(lm.fit5, direction = \"forward\", \n",
    "                      trace = FALSE)\n"
   ]
  },
  {
   "cell_type": "markdown",
   "metadata": {},
   "source": [
    " Letes get the models together in a neat list, use Sapply with get_rmse and get_complexity on each model to gather some info on the models."
   ]
  },
  {
   "cell_type": "code",
   "execution_count": 85,
   "metadata": {},
   "outputs": [
    {
     "name": "stderr",
     "output_type": "stream",
     "text": [
      "Warning message in predict.lm(model, data):\n",
      "\"prediction from a rank-deficient fit may be misleading\"Warning message in predict.lm(model, data):\n",
      "\"prediction from a rank-deficient fit may be misleading\""
     ]
    }
   ],
   "source": [
    "model_list <- list(mod,mod1,mod2,mod3,mod4,mod5)\n",
    "err = sapply(model_list, get_rmse, data = df, response = \"SalePrice\")\n",
    "model_complexity = sapply(model_list, get_complexity)"
   ]
  },
  {
   "cell_type": "markdown",
   "metadata": {},
   "source": [
    "lets make a simple plot to compare the error and model complexity"
   ]
  },
  {
   "cell_type": "code",
   "execution_count": 86,
   "metadata": {},
   "outputs": [
    {
     "data": {
      "image/png": "[encoded data removed]",
      "text/plain": [
       "plot without title"
      ]
     },
     "metadata": {},
     "output_type": "display_data"
    }
   ],
   "source": [
    "plot(model_complexity, err, type = \"b\",\n",
    "     ylim = c(min(train_rmse) - 0.02,\n",
    "              max(train_rmse) + 0.02),\n",
    "     col = \"dodgerblue\",\n",
    "     xlab = \"Model Complexity\",\n",
    "     ylab = \"RMSE\")\n",
    "#lines(model_complexity, type = \"b\", col = \"darkorange\")\n"
   ]
  },
  {
   "cell_type": "code",
   "execution_count": null,
   "metadata": {},
   "outputs": [],
   "source": []
  }
 ],
 "metadata": {
  "kernelspec": {
   "display_name": "R",
   "language": "R",
   "name": "ir"
  },
  "language_info": {
   "codemirror_mode": "r",
   "file_extension": ".r",
   "mimetype": "text/x-r-source",
   "name": "R",
   "pygments_lexer": "r",
   "version": "3.6.1"
  }
 },
 "nbformat": 4,
 "nbformat_minor": 4
}
