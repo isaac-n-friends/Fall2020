{
 "cells": [
  {
   "cell_type": "markdown",
   "metadata": {},
   "source": [
    "# Project 1\n",
    "\n",
    "## Part 1 - Rat sighting data analysis\n",
    "\n",
    "First lets import packages. We'll be using tidyverse and dslabs to wrangle our rat sigtings data and make some plots with ggplot2"
   ]
  },
  {
   "cell_type": "code",
   "execution_count": 4,
   "metadata": {
    "scrolled": true
   },
   "outputs": [],
   "source": [
    "library(ggplot2)\n",
    "library(tidyr)\n",
    "library(tidyverse)\n",
    "library(dslabs)\n",
    "library(lubridate)"
   ]
  },
  {
   "cell_type": "markdown",
   "metadata": {},
   "source": [
    "The starter code below reads in the data and uses some lubridate functions to create adittional variables describeing the sighting dates"
   ]
  },
  {
   "cell_type": "code",
   "execution_count": 5,
   "metadata": {
    "scrolled": true
   },
   "outputs": [
    {
     "name": "stderr",
     "output_type": "stream",
     "text": [
      "\n",
      "-- Column specification ------------------------------------------------------------------------------------------------\n",
      "cols(\n",
      "  .default = col_character(),\n",
      "  `Unique Key` = col_double(),\n",
      "  `Incident Zip` = col_double(),\n",
      "  `Facility Type` = col_logical(),\n",
      "  `Due Date` = col_logical(),\n",
      "  `X Coordinate (State Plane)` = col_double(),\n",
      "  `Y Coordinate (State Plane)` = col_double(),\n",
      "  `Vehicle Type` = col_logical(),\n",
      "  `Taxi Company Borough` = col_logical(),\n",
      "  `Taxi Pick Up Location` = col_logical(),\n",
      "  `Bridge Highway Name` = col_logical(),\n",
      "  `Bridge Highway Direction` = col_logical(),\n",
      "  `Road Ramp` = col_logical(),\n",
      "  `Bridge Highway Segment` = col_logical(),\n",
      "  Latitude = col_double(),\n",
      "  Longitude = col_double()\n",
      ")\n",
      "i Use `spec()` for the full column specifications.\n",
      "\n",
      "Warning message:\n",
      "\"132232 parsing failures.\n",
      " row      col           expected                 actual                     file\n",
      "2247 Due Date 1/0/T/F/TRUE/FALSE 08/28/2018 12:29:04 PM 'data/Rat_Sightings.csv'\n",
      "2248 Due Date 1/0/T/F/TRUE/FALSE 08/28/2018 04:59:47 AM 'data/Rat_Sightings.csv'\n",
      "2249 Due Date 1/0/T/F/TRUE/FALSE 08/28/2018 02:04:00 PM 'data/Rat_Sightings.csv'\n",
      "2250 Due Date 1/0/T/F/TRUE/FALSE 08/28/2018 01:16:21 PM 'data/Rat_Sightings.csv'\n",
      "2251 Due Date 1/0/T/F/TRUE/FALSE 08/28/2018 07:36:28 PM 'data/Rat_Sightings.csv'\n",
      ".... ........ .................. ...................... ........................\n",
      "See problems(...) for more details.\n",
      "\""
     ]
    }
   ],
   "source": [
    "rats_raw <- read_csv(\"data/Rat_Sightings.csv\", na = c(\"\", \"NA\", \"N/A\"))\n",
    "# If you get an error that says \"All formats failed to parse. No formats\n",
    "# found\", it's because the mdy_hms function couldn't parse the date. The date\n",
    "# variable *should* be in this format: \"04/03/2017 12:00:00 AM\", but in some\n",
    "# rare instances, it might load without the seconds as \"04/03/2017 12:00 AM\".\n",
    "# If there are no seconds, use mdy_hm() instead of mdy_hms().\n",
    "rats_clean <- rats_raw %>%\n",
    "  rename(created_date = `Created Date`,\n",
    "         location_type = `Location Type`,\n",
    "         borough = Borough) %>%\n",
    "  mutate(created_date = mdy_hms(created_date)) %>%\n",
    "  mutate(sighting_year = year(created_date),\n",
    "         sighting_month = month(created_date),\n",
    "         sighting_day = day(created_date),\n",
    "         sighting_weekday = wday(created_date, label = TRUE, abbr = FALSE)) %>%\n",
    "  filter(borough != \"Unspecified\")"
   ]
  },
  {
   "cell_type": "code",
   "execution_count": 5,
   "metadata": {},
   "outputs": [
    {
     "data": {
      "text/html": [
       "<table>\n",
       "<thead><tr><th scope=col>Unique Key</th><th scope=col>Created Date</th><th scope=col>Closed Date</th><th scope=col>Agency</th><th scope=col>Agency Name</th><th scope=col>Complaint Type</th><th scope=col>Descriptor</th><th scope=col>Location Type</th><th scope=col>Incident Zip</th><th scope=col>Incident Address</th><th scope=col>...</th><th scope=col>Vehicle Type</th><th scope=col>Taxi Company Borough</th><th scope=col>Taxi Pick Up Location</th><th scope=col>Bridge Highway Name</th><th scope=col>Bridge Highway Direction</th><th scope=col>Road Ramp</th><th scope=col>Bridge Highway Segment</th><th scope=col>Latitude</th><th scope=col>Longitude</th><th scope=col>Location</th></tr></thead>\n",
       "<tbody>\n",
       "\t<tr><td>47782138                                </td><td>10/04/2020 02:07:51 PM                  </td><td>NA                                      </td><td>DOHMH                                   </td><td>Department of Health and Mental Hygiene </td><td>Rodent                                  </td><td>Rat Sighting                            </td><td>Catch Basin/Sewer                       </td><td>10007                                   </td><td>292 GREENWICH STREET                    </td><td>...                                     </td><td>NA                                      </td><td>NA                                      </td><td>NA                                      </td><td>NA                                      </td><td>NA                                      </td><td>NA                                      </td><td>NA                                      </td><td>40.71602                                </td><td>-74.01104                               </td><td>(40.71601701964443, -74.01103839517805) </td></tr>\n",
       "\t<tr><td>47781357                                </td><td>10/04/2020 01:07:34 PM                  </td><td>NA                                      </td><td>DOHMH                                   </td><td>Department of Health and Mental Hygiene </td><td>Rodent                                  </td><td>Rat Sighting                            </td><td>3+ Family Apt. Building                 </td><td>11226                                   </td><td>120 EAST   19 STREET                    </td><td>...                                     </td><td>NA                                      </td><td>NA                                      </td><td>NA                                      </td><td>NA                                      </td><td>NA                                      </td><td>NA                                      </td><td>NA                                      </td><td>40.64644                                </td><td>-73.96155                               </td><td>(40.64643937078732, -73.96155364982612) </td></tr>\n",
       "\t<tr><td>47784412                                </td><td>10/04/2020 03:54:51 PM                  </td><td>NA                                      </td><td>DOHMH                                   </td><td>Department of Health and Mental Hygiene </td><td>Rodent                                  </td><td>Rat Sighting                            </td><td>1-2 Family Dwelling                     </td><td>10460                                   </td><td>811 EAST  178 STREET                    </td><td>...                                     </td><td>NA                                      </td><td>NA                                      </td><td>NA                                      </td><td>NA                                      </td><td>NA                                      </td><td>NA                                      </td><td>NA                                      </td><td>40.84449                                </td><td>-73.88691                               </td><td>(40.84448706226224, -73.8869089837199)  </td></tr>\n",
       "\t<tr><td>47782513                                </td><td>10/04/2020 01:14:24 PM                  </td><td>NA                                      </td><td>DOHMH                                   </td><td>Department of Health and Mental Hygiene </td><td>Rodent                                  </td><td>Rat Sighting                            </td><td>Other (Explain Below)                   </td><td>10026                                   </td><td>7 AVENUE                                </td><td>...                                     </td><td>NA                                      </td><td>NA                                      </td><td>NA                                      </td><td>NA                                      </td><td>NA                                      </td><td>NA                                      </td><td>NA                                      </td><td>40.80003                                </td><td>-73.95486                               </td><td>(40.800030819492065, -73.9548552168686) </td></tr>\n",
       "\t<tr><td>47782170                                </td><td>10/04/2020 08:28:15 PM                  </td><td>NA                                      </td><td>DOHMH                                   </td><td>Department of Health and Mental Hygiene </td><td>Rodent                                  </td><td>Rat Sighting                            </td><td>3+ Family Apt. Building                 </td><td>11206                                   </td><td>890 FLUSHING AVENUE                     </td><td>...                                     </td><td>NA                                      </td><td>NA                                      </td><td>NA                                      </td><td>NA                                      </td><td>NA                                      </td><td>NA                                      </td><td>NA                                      </td><td>40.70209                                </td><td>-73.93623                               </td><td>(40.70208667656569, -73.93622510731538) </td></tr>\n",
       "\t<tr><td>47783865                                </td><td>10/04/2020 08:10:26 AM                  </td><td>NA                                      </td><td>DOHMH                                   </td><td>Department of Health and Mental Hygiene </td><td>Rodent                                  </td><td>Rat Sighting                            </td><td>1-2 Family Dwelling                     </td><td>11429                                   </td><td>215-01 104 AVENUE                       </td><td>...                                     </td><td>NA                                      </td><td>NA                                      </td><td>NA                                      </td><td>NA                                      </td><td>NA                                      </td><td>NA                                      </td><td>NA                                      </td><td>40.71203                                </td><td>-73.74355                               </td><td>(40.712034705477286, -73.74354902753882)</td></tr>\n",
       "</tbody>\n",
       "</table>\n"
      ],
      "text/latex": [
       "\\begin{tabular}{r|llllllllllllllllllllllllllllllllllllll}\n",
       " Unique Key & Created Date & Closed Date & Agency & Agency Name & Complaint Type & Descriptor & Location Type & Incident Zip & Incident Address & ... & Vehicle Type & Taxi Company Borough & Taxi Pick Up Location & Bridge Highway Name & Bridge Highway Direction & Road Ramp & Bridge Highway Segment & Latitude & Longitude & Location\\\\\n",
       "\\hline\n",
       "\t 47782138                                 & 10/04/2020 02:07:51 PM                   & NA                                       & DOHMH                                    & Department of Health and Mental Hygiene  & Rodent                                   & Rat Sighting                             & Catch Basin/Sewer                        & 10007                                    & 292 GREENWICH STREET                     & ...                                      & NA                                       & NA                                       & NA                                       & NA                                       & NA                                       & NA                                       & NA                                       & 40.71602                                 & -74.01104                                & (40.71601701964443, -74.01103839517805) \\\\\n",
       "\t 47781357                                 & 10/04/2020 01:07:34 PM                   & NA                                       & DOHMH                                    & Department of Health and Mental Hygiene  & Rodent                                   & Rat Sighting                             & 3+ Family Apt. Building                  & 11226                                    & 120 EAST   19 STREET                     & ...                                      & NA                                       & NA                                       & NA                                       & NA                                       & NA                                       & NA                                       & NA                                       & 40.64644                                 & -73.96155                                & (40.64643937078732, -73.96155364982612) \\\\\n",
       "\t 47784412                                 & 10/04/2020 03:54:51 PM                   & NA                                       & DOHMH                                    & Department of Health and Mental Hygiene  & Rodent                                   & Rat Sighting                             & 1-2 Family Dwelling                      & 10460                                    & 811 EAST  178 STREET                     & ...                                      & NA                                       & NA                                       & NA                                       & NA                                       & NA                                       & NA                                       & NA                                       & 40.84449                                 & -73.88691                                & (40.84448706226224, -73.8869089837199)  \\\\\n",
       "\t 47782513                                 & 10/04/2020 01:14:24 PM                   & NA                                       & DOHMH                                    & Department of Health and Mental Hygiene  & Rodent                                   & Rat Sighting                             & Other (Explain Below)                    & 10026                                    & 7 AVENUE                                 & ...                                      & NA                                       & NA                                       & NA                                       & NA                                       & NA                                       & NA                                       & NA                                       & 40.80003                                 & -73.95486                                & (40.800030819492065, -73.9548552168686) \\\\\n",
       "\t 47782170                                 & 10/04/2020 08:28:15 PM                   & NA                                       & DOHMH                                    & Department of Health and Mental Hygiene  & Rodent                                   & Rat Sighting                             & 3+ Family Apt. Building                  & 11206                                    & 890 FLUSHING AVENUE                      & ...                                      & NA                                       & NA                                       & NA                                       & NA                                       & NA                                       & NA                                       & NA                                       & 40.70209                                 & -73.93623                                & (40.70208667656569, -73.93622510731538) \\\\\n",
       "\t 47783865                                 & 10/04/2020 08:10:26 AM                   & NA                                       & DOHMH                                    & Department of Health and Mental Hygiene  & Rodent                                   & Rat Sighting                             & 1-2 Family Dwelling                      & 11429                                    & 215-01 104 AVENUE                        & ...                                      & NA                                       & NA                                       & NA                                       & NA                                       & NA                                       & NA                                       & NA                                       & 40.71203                                 & -73.74355                                & (40.712034705477286, -73.74354902753882)\\\\\n",
       "\\end{tabular}\n"
      ],
      "text/markdown": [
       "\n",
       "| Unique Key | Created Date | Closed Date | Agency | Agency Name | Complaint Type | Descriptor | Location Type | Incident Zip | Incident Address | ... | Vehicle Type | Taxi Company Borough | Taxi Pick Up Location | Bridge Highway Name | Bridge Highway Direction | Road Ramp | Bridge Highway Segment | Latitude | Longitude | Location |\n",
       "|---|---|---|---|---|---|---|---|---|---|---|---|---|---|---|---|---|---|---|---|---|\n",
       "| 47782138                                 | 10/04/2020 02:07:51 PM                   | NA                                       | DOHMH                                    | Department of Health and Mental Hygiene  | Rodent                                   | Rat Sighting                             | Catch Basin/Sewer                        | 10007                                    | 292 GREENWICH STREET                     | ...                                      | NA                                       | NA                                       | NA                                       | NA                                       | NA                                       | NA                                       | NA                                       | 40.71602                                 | -74.01104                                | (40.71601701964443, -74.01103839517805)  |\n",
       "| 47781357                                 | 10/04/2020 01:07:34 PM                   | NA                                       | DOHMH                                    | Department of Health and Mental Hygiene  | Rodent                                   | Rat Sighting                             | 3+ Family Apt. Building                  | 11226                                    | 120 EAST   19 STREET                     | ...                                      | NA                                       | NA                                       | NA                                       | NA                                       | NA                                       | NA                                       | NA                                       | 40.64644                                 | -73.96155                                | (40.64643937078732, -73.96155364982612)  |\n",
       "| 47784412                                 | 10/04/2020 03:54:51 PM                   | NA                                       | DOHMH                                    | Department of Health and Mental Hygiene  | Rodent                                   | Rat Sighting                             | 1-2 Family Dwelling                      | 10460                                    | 811 EAST  178 STREET                     | ...                                      | NA                                       | NA                                       | NA                                       | NA                                       | NA                                       | NA                                       | NA                                       | 40.84449                                 | -73.88691                                | (40.84448706226224, -73.8869089837199)   |\n",
       "| 47782513                                 | 10/04/2020 01:14:24 PM                   | NA                                       | DOHMH                                    | Department of Health and Mental Hygiene  | Rodent                                   | Rat Sighting                             | Other (Explain Below)                    | 10026                                    | 7 AVENUE                                 | ...                                      | NA                                       | NA                                       | NA                                       | NA                                       | NA                                       | NA                                       | NA                                       | 40.80003                                 | -73.95486                                | (40.800030819492065, -73.9548552168686)  |\n",
       "| 47782170                                 | 10/04/2020 08:28:15 PM                   | NA                                       | DOHMH                                    | Department of Health and Mental Hygiene  | Rodent                                   | Rat Sighting                             | 3+ Family Apt. Building                  | 11206                                    | 890 FLUSHING AVENUE                      | ...                                      | NA                                       | NA                                       | NA                                       | NA                                       | NA                                       | NA                                       | NA                                       | 40.70209                                 | -73.93623                                | (40.70208667656569, -73.93622510731538)  |\n",
       "| 47783865                                 | 10/04/2020 08:10:26 AM                   | NA                                       | DOHMH                                    | Department of Health and Mental Hygiene  | Rodent                                   | Rat Sighting                             | 1-2 Family Dwelling                      | 11429                                    | 215-01 104 AVENUE                        | ...                                      | NA                                       | NA                                       | NA                                       | NA                                       | NA                                       | NA                                       | NA                                       | 40.71203                                 | -73.74355                                | (40.712034705477286, -73.74354902753882) |\n",
       "\n"
      ],
      "text/plain": [
       "  Unique Key Created Date           Closed Date Agency\n",
       "1 47782138   10/04/2020 02:07:51 PM NA          DOHMH \n",
       "2 47781357   10/04/2020 01:07:34 PM NA          DOHMH \n",
       "3 47784412   10/04/2020 03:54:51 PM NA          DOHMH \n",
       "4 47782513   10/04/2020 01:14:24 PM NA          DOHMH \n",
       "5 47782170   10/04/2020 08:28:15 PM NA          DOHMH \n",
       "6 47783865   10/04/2020 08:10:26 AM NA          DOHMH \n",
       "  Agency Name                             Complaint Type Descriptor  \n",
       "1 Department of Health and Mental Hygiene Rodent         Rat Sighting\n",
       "2 Department of Health and Mental Hygiene Rodent         Rat Sighting\n",
       "3 Department of Health and Mental Hygiene Rodent         Rat Sighting\n",
       "4 Department of Health and Mental Hygiene Rodent         Rat Sighting\n",
       "5 Department of Health and Mental Hygiene Rodent         Rat Sighting\n",
       "6 Department of Health and Mental Hygiene Rodent         Rat Sighting\n",
       "  Location Type           Incident Zip Incident Address     ... Vehicle Type\n",
       "1 Catch Basin/Sewer       10007        292 GREENWICH STREET ... NA          \n",
       "2 3+ Family Apt. Building 11226        120 EAST   19 STREET ... NA          \n",
       "3 1-2 Family Dwelling     10460        811 EAST  178 STREET ... NA          \n",
       "4 Other (Explain Below)   10026        7 AVENUE             ... NA          \n",
       "5 3+ Family Apt. Building 11206        890 FLUSHING AVENUE  ... NA          \n",
       "6 1-2 Family Dwelling     11429        215-01 104 AVENUE    ... NA          \n",
       "  Taxi Company Borough Taxi Pick Up Location Bridge Highway Name\n",
       "1 NA                   NA                    NA                 \n",
       "2 NA                   NA                    NA                 \n",
       "3 NA                   NA                    NA                 \n",
       "4 NA                   NA                    NA                 \n",
       "5 NA                   NA                    NA                 \n",
       "6 NA                   NA                    NA                 \n",
       "  Bridge Highway Direction Road Ramp Bridge Highway Segment Latitude Longitude\n",
       "1 NA                       NA        NA                     40.71602 -74.01104\n",
       "2 NA                       NA        NA                     40.64644 -73.96155\n",
       "3 NA                       NA        NA                     40.84449 -73.88691\n",
       "4 NA                       NA        NA                     40.80003 -73.95486\n",
       "5 NA                       NA        NA                     40.70209 -73.93623\n",
       "6 NA                       NA        NA                     40.71203 -73.74355\n",
       "  Location                                \n",
       "1 (40.71601701964443, -74.01103839517805) \n",
       "2 (40.64643937078732, -73.96155364982612) \n",
       "3 (40.84448706226224, -73.8869089837199)  \n",
       "4 (40.800030819492065, -73.9548552168686) \n",
       "5 (40.70208667656569, -73.93622510731538) \n",
       "6 (40.712034705477286, -73.74354902753882)"
      ]
     },
     "metadata": {},
     "output_type": "display_data"
    }
   ],
   "source": [
    "head(rats_raw)"
   ]
  },
  {
   "cell_type": "markdown",
   "metadata": {},
   "source": [
    "We are trying to get as specific as possible in our visualization in order to provide a better picture for each borough. We are specifically looking for the borough with the highest increase in rat sightings over the last decade. Our data suggests that Brooklyn is the borough that has a consistent increase in sightings whereas every other borough is consistently the same. We understand that Brooklyn does have a higher population as well as more land than some of the other boroughs, but the graph shows that the % increase of sightings in Brooklyn is higher than any other borough. This data implicates that there was a dramatic increase of rats over the years 2010-2019, but suddenly lowered this past year. You can clearly see every borough saw a decrease in rat sightings this past year, peaking in most boroughs in 2017. Future research should ask what might be the cause of the decrease in rat sightings over the past 3 years.\n",
    "\n"
   ]
  },
  {
   "cell_type": "code",
   "execution_count": 9,
   "metadata": {},
   "outputs": [
    {
     "data": {
      "image/png": "[encoded data removed]",
      "text/plain": [
       "plot without title"
      ]
     },
     "metadata": {},
     "output_type": "display_data"
    }
   ],
   "source": [
    "boro <- rats_clean %>%\n",
    "  count(borough, sighting_year)\n",
    "\n",
    "\n",
    "ggplot(data=boro, aes(x=sighting_year, y=n, colour=borough)) + scale_x_continuous(breaks = c(2010:2020)) + \n",
    "       geom_line() + ggtitle(\"Sightings in each Borough in the last decade\")"
   ]
  },
  {
   "cell_type": "markdown",
   "metadata": {},
   "source": [
    "\n",
    "# Part 2 - Data Sources\n",
    "\n",
    "## Integrated Public Use Microdata Series - Current Population Survey\n",
    "\n",
    "### https://cps.ipums.org/cps/index.shtml\n",
    "\n",
    "The Current Population Survey is a survey conducted by the US Cenesus Bureau every month of around 60,000 households. In the Economic Suppliment series there is survey data responces at the household and the invdividual level for employment, income, and health data. Most commonly known for being the source for BLS uneployment report statistics, this data contains trends that encompass America's economy over the past 50 years. Unlike summary reports from the census website, these are actual survey responces allowing for more detailed analysis at the person and family level. \n",
    "\n",
    "\n",
    "\n",
    "## S&P 500 Constituents  \n",
    "\n",
    "### https://datahub.io/core/s-and-p-500-companies-financials\n",
    "\n",
    "This file essentially contains stock market data. This data has some of the highlights of information used to understand and value the given stock. We can use this dataset to show many different aspects of the stock including price, EBITDA, earnings, PE ratio, and much more. This file is interesting because it would be very beneficial to figure out more about specific stocks and how they move. If you are able to make sound predictions in the stock market using data analytics, it could be an extremely powerful tool. If understood, we can even understand more about humans in general and why people seem to sell or buy at specific points.\n",
    "\n",
    "\n",
    "## Estimating Low Income Job loss due to COVID-19\n",
    "\n",
    "### https://github.com/UrbanInstitute/covid-neighborhood-job-analysis\n",
    "\n",
    "\n",
    "This datafile accesses information on the number of low-income jobs lost due to covid19 in every state in the U.S. The U.S unemployment rate has taken the biggest hit since the great depression and it is important to see the spread of lost jobs throughout the nation.This dataset was provided by the Urban Institute Data and Research team. The Urban Institute monitors COVID-19 unemployment rates and establish policies to help protect families and communities\n",
    "\n",
    "\n"
   ]
  }
 ],
 "metadata": {
  "kernelspec": {
   "display_name": "R",
   "language": "R",
   "name": "ir"
  },
  "language_info": {
   "codemirror_mode": "r",
   "file_extension": ".r",
   "mimetype": "text/x-r-source",
   "name": "R",
   "pygments_lexer": "r",
   "version": "3.6.1"
  }
 },
 "nbformat": 4,
 "nbformat_minor": 4
}
