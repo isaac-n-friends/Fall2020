{
 "cells": [
  {
   "cell_type": "markdown",
   "metadata": {},
   "source": [
    "# Project 1\n",
    "\n",
    "## Part 1 - Rat sighting data analysis\n",
    "\n",
    "First lets import our packages. We'll be using tidyverse and dslabs to wrangle our rat sigtings data and make some plots"
   ]
  },
  {
   "cell_type": "code",
   "execution_count": 2,
   "metadata": {},
   "outputs": [
    {
     "name": "stderr",
     "output_type": "stream",
     "text": [
      "also installing the dependencies 'desc', 'pkgbuild', 'rprojroot', 'pkgload', 'praise', 'lattice', 'colorspace', 'sys', 'ps', 'highr', 'markdown', 'testthat', 'nlme', 'Matrix', 'farver', 'labeling', 'munsell', 'RColorBrewer', 'viridisLite', 'askpass', 'rematch', 'prettyunits', 'processx', 'knitr', 'yaml', 'tinytex', 'xfun', 'backports', 'ellipsis', 'generics', 'glue', 'assertthat', 'fansi', 'DBI', 'lifecycle', 'R6', 'tidyselect', 'blob', 'vctrs', 'gtable', 'isoband', 'MASS', 'mgcv', 'scales', 'withr', 'pkgconfig', 'curl', 'mime', 'openssl', 'utf8', 'clipr', 'BH', 'cpp11', 'cellranger', 'progress', 'callr', 'fs', 'rmarkdown', 'whisker', 'selectr', 'stringi', 'broom', 'cli', 'dbplyr', 'dplyr', 'forcats', 'ggplot2', 'haven', 'hms', 'httr', 'lubridate', 'magrittr', 'modelr', 'pillar', 'purrr', 'readr', 'readxl', 'reprex', 'rlang', 'rstudioapi', 'rvest', 'stringr', 'tibble', 'tidyr', 'xml2'\n",
      "\n"
     ]
    },
    {
     "name": "stdout",
     "output_type": "stream",
     "text": [
      "\n",
      "  There are binary versions available but the source versions are later:\n",
      "        binary source needs_compilation\n",
      "callr    3.5.0  3.5.1             FALSE\n",
      "stringi  1.4.6  1.5.3              TRUE\n",
      "\n",
      "  Binaries will be installed\n",
      "package 'desc' successfully unpacked and MD5 sums checked\n",
      "package 'pkgbuild' successfully unpacked and MD5 sums checked\n",
      "package 'rprojroot' successfully unpacked and MD5 sums checked\n",
      "package 'pkgload' successfully unpacked and MD5 sums checked\n",
      "package 'praise' successfully unpacked and MD5 sums checked\n",
      "package 'lattice' successfully unpacked and MD5 sums checked\n",
      "package 'colorspace' successfully unpacked and MD5 sums checked\n",
      "package 'sys' successfully unpacked and MD5 sums checked\n",
      "package 'ps' successfully unpacked and MD5 sums checked\n",
      "package 'highr' successfully unpacked and MD5 sums checked\n",
      "package 'markdown' successfully unpacked and MD5 sums checked\n",
      "package 'testthat' successfully unpacked and MD5 sums checked\n",
      "package 'nlme' successfully unpacked and MD5 sums checked\n",
      "package 'Matrix' successfully unpacked and MD5 sums checked\n",
      "package 'farver' successfully unpacked and MD5 sums checked\n",
      "package 'labeling' successfully unpacked and MD5 sums checked\n",
      "package 'munsell' successfully unpacked and MD5 sums checked\n",
      "package 'RColorBrewer' successfully unpacked and MD5 sums checked\n",
      "package 'viridisLite' successfully unpacked and MD5 sums checked\n",
      "package 'askpass' successfully unpacked and MD5 sums checked\n",
      "package 'rematch' successfully unpacked and MD5 sums checked\n",
      "package 'prettyunits' successfully unpacked and MD5 sums checked\n",
      "package 'processx' successfully unpacked and MD5 sums checked\n",
      "package 'knitr' successfully unpacked and MD5 sums checked\n",
      "package 'yaml' successfully unpacked and MD5 sums checked\n",
      "package 'tinytex' successfully unpacked and MD5 sums checked\n",
      "package 'xfun' successfully unpacked and MD5 sums checked\n",
      "package 'backports' successfully unpacked and MD5 sums checked\n",
      "package 'ellipsis' successfully unpacked and MD5 sums checked\n",
      "package 'generics' successfully unpacked and MD5 sums checked\n",
      "package 'glue' successfully unpacked and MD5 sums checked\n",
      "package 'assertthat' successfully unpacked and MD5 sums checked\n",
      "package 'fansi' successfully unpacked and MD5 sums checked\n",
      "package 'DBI' successfully unpacked and MD5 sums checked\n",
      "package 'lifecycle' successfully unpacked and MD5 sums checked\n",
      "package 'R6' successfully unpacked and MD5 sums checked\n",
      "package 'tidyselect' successfully unpacked and MD5 sums checked\n",
      "package 'blob' successfully unpacked and MD5 sums checked\n",
      "package 'vctrs' successfully unpacked and MD5 sums checked\n",
      "package 'gtable' successfully unpacked and MD5 sums checked\n",
      "package 'isoband' successfully unpacked and MD5 sums checked\n",
      "package 'MASS' successfully unpacked and MD5 sums checked\n",
      "package 'mgcv' successfully unpacked and MD5 sums checked\n",
      "package 'scales' successfully unpacked and MD5 sums checked\n",
      "package 'withr' successfully unpacked and MD5 sums checked\n",
      "package 'pkgconfig' successfully unpacked and MD5 sums checked\n",
      "package 'curl' successfully unpacked and MD5 sums checked\n",
      "package 'mime' successfully unpacked and MD5 sums checked\n",
      "package 'openssl' successfully unpacked and MD5 sums checked\n",
      "package 'utf8' successfully unpacked and MD5 sums checked\n",
      "package 'clipr' successfully unpacked and MD5 sums checked\n",
      "package 'BH' successfully unpacked and MD5 sums checked\n",
      "package 'cpp11' successfully unpacked and MD5 sums checked\n",
      "package 'cellranger' successfully unpacked and MD5 sums checked\n",
      "package 'progress' successfully unpacked and MD5 sums checked\n",
      "package 'fs' successfully unpacked and MD5 sums checked\n",
      "package 'rmarkdown' successfully unpacked and MD5 sums checked\n",
      "package 'whisker' successfully unpacked and MD5 sums checked\n",
      "package 'selectr' successfully unpacked and MD5 sums checked\n",
      "package 'stringi' successfully unpacked and MD5 sums checked\n",
      "package 'broom' successfully unpacked and MD5 sums checked\n",
      "package 'cli' successfully unpacked and MD5 sums checked\n",
      "package 'dbplyr' successfully unpacked and MD5 sums checked\n",
      "package 'dplyr' successfully unpacked and MD5 sums checked\n",
      "package 'forcats' successfully unpacked and MD5 sums checked\n",
      "package 'ggplot2' successfully unpacked and MD5 sums checked\n",
      "package 'haven' successfully unpacked and MD5 sums checked\n",
      "package 'hms' successfully unpacked and MD5 sums checked\n",
      "package 'httr' successfully unpacked and MD5 sums checked\n",
      "package 'lubridate' successfully unpacked and MD5 sums checked\n",
      "package 'magrittr' successfully unpacked and MD5 sums checked\n",
      "package 'modelr' successfully unpacked and MD5 sums checked\n",
      "package 'pillar' successfully unpacked and MD5 sums checked\n",
      "package 'purrr' successfully unpacked and MD5 sums checked\n",
      "package 'readr' successfully unpacked and MD5 sums checked\n",
      "package 'readxl' successfully unpacked and MD5 sums checked\n",
      "package 'reprex' successfully unpacked and MD5 sums checked\n",
      "package 'rlang' successfully unpacked and MD5 sums checked\n",
      "package 'rstudioapi' successfully unpacked and MD5 sums checked\n",
      "package 'rvest' successfully unpacked and MD5 sums checked\n",
      "package 'stringr' successfully unpacked and MD5 sums checked\n",
      "package 'tibble' successfully unpacked and MD5 sums checked\n",
      "package 'tidyr' successfully unpacked and MD5 sums checked\n",
      "package 'xml2' successfully unpacked and MD5 sums checked\n",
      "package 'tidyverse' successfully unpacked and MD5 sums checked\n",
      "\n",
      "The downloaded binary packages are in\n",
      "\tC:\\Users\\isaac\\AppData\\Local\\Temp\\RtmpuaOCLC\\downloaded_packages\n"
     ]
    },
    {
     "name": "stderr",
     "output_type": "stream",
     "text": [
      "installing the source package 'callr'\n",
      "\n"
     ]
    },
    {
     "name": "stdout",
     "output_type": "stream",
     "text": [
      "package 'dslabs' successfully unpacked and MD5 sums checked\n",
      "\n",
      "The downloaded binary packages are in\n",
      "\tC:\\Users\\isaac\\AppData\\Local\\Temp\\RtmpuaOCLC\\downloaded_packages\n"
     ]
    }
   ],
   "source": [
    "install.packages('tidyverse')\n",
    "install.packages('dslabs')"
   ]
  },
  {
   "cell_type": "code",
   "execution_count": 3,
   "metadata": {},
   "outputs": [
    {
     "name": "stderr",
     "output_type": "stream",
     "text": [
      "Warning message:\n",
      "\"package 'tidyverse' was built under R version 3.6.3\"-- Attaching packages ------------------------------------------------------------------------------- tidyverse 1.3.0 --\n",
      "v ggplot2 3.3.2     v purrr   0.3.4\n",
      "v tibble  3.0.4     v dplyr   1.0.2\n",
      "v tidyr   1.1.2     v stringr 1.4.0\n",
      "v readr   1.4.0     v forcats 0.5.0\n",
      "Warning message:\n",
      "\"package 'ggplot2' was built under R version 3.6.3\"Warning message:\n",
      "\"package 'tibble' was built under R version 3.6.3\"Warning message:\n",
      "\"package 'tidyr' was built under R version 3.6.3\"Warning message:\n",
      "\"package 'readr' was built under R version 3.6.3\"Warning message:\n",
      "\"package 'purrr' was built under R version 3.6.3\"Warning message:\n",
      "\"package 'dplyr' was built under R version 3.6.3\"Warning message:\n",
      "\"package 'stringr' was built under R version 3.6.3\"Warning message:\n",
      "\"package 'forcats' was built under R version 3.6.3\"-- Conflicts ---------------------------------------------------------------------------------- tidyverse_conflicts() --\n",
      "x dplyr::filter() masks stats::filter()\n",
      "x dplyr::lag()    masks stats::lag()\n",
      "Warning message:\n",
      "\"package 'dslabs' was built under R version 3.6.3\""
     ]
    }
   ],
   "source": [
    "#install.packages('dslabs')\n",
    "\n",
    "library(tidyverse)\n",
    "library(dslabs)"
   ]
  },
  {
   "cell_type": "markdown",
   "metadata": {},
   "source": []
  },
  {
   "cell_type": "code",
   "execution_count": null,
   "metadata": {},
   "outputs": [
    {
     "name": "stderr",
     "output_type": "stream",
     "text": [
      "\n",
      "-- Column specification ------------------------------------------------------------------------------------------------\n",
      "cols(\n",
      "  .default = col_character(),\n",
      "  `Unique Key` = col_double(),\n",
      "  `Incident Zip` = col_double(),\n",
      "  `Facility Type` = col_logical(),\n",
      "  `Due Date` = col_logical(),\n",
      "  `X Coordinate (State Plane)` = col_double(),\n",
      "  `Y Coordinate (State Plane)` = col_double(),\n",
      "  `Vehicle Type` = col_logical(),\n",
      "  `Taxi Company Borough` = col_logical(),\n",
      "  `Taxi Pick Up Location` = col_logical(),\n",
      "  `Bridge Highway Name` = col_logical(),\n",
      "  `Bridge Highway Direction` = col_logical(),\n",
      "  `Road Ramp` = col_logical(),\n",
      "  `Bridge Highway Segment` = col_logical(),\n",
      "  Latitude = col_double(),\n",
      "  Longitude = col_double()\n",
      ")\n",
      "i Use `spec()` for the full column specifications.\n",
      "\n"
     ]
    }
   ],
   "source": [
    "rats_raw <- read_csv(\"data/Rat_Sightings.csv\", na = c(\"\", \"NA\", \"N/A\"))\n",
    "# If you get an error that says \"All formats failed to parse. No formats\n",
    "# found\", it's because the mdy_hms function couldn't parse the date. The date\n",
    "# variable *should* be in this format: \"04/03/2017 12:00:00 AM\", but in some\n",
    "# rare instances, it might load without the seconds as \"04/03/2017 12:00 AM\".\n",
    "# If there are no seconds, use mdy_hm() instead of mdy_hms().\n",
    "rats_clean <- rats_raw %>%\n",
    "  rename(created_date = `Created Date`,\n",
    "         location_type = `Location Type`,\n",
    "         borough = Borough) %>%\n",
    "  mutate(created_date = mdy_hms(created_date)) %>%\n",
    "  mutate(sighting_year = year(created_date),\n",
    "         sighting_month = month(created_date),\n",
    "         sighting_day = day(created_date),\n",
    "         sighting_weekday = wday(created_date, label = TRUE, abbr = FALSE)) %>%\n",
    "  filter(borough != \"Unspecified\")"
   ]
  },
  {
   "cell_type": "code",
   "execution_count": null,
   "metadata": {},
   "outputs": [],
   "source": []
  },
  {
   "cell_type": "raw",
   "metadata": {},
   "source": []
  },
  {
   "cell_type": "code",
   "execution_count": null,
   "metadata": {},
   "outputs": [],
   "source": []
  },
  {
   "cell_type": "code",
   "execution_count": null,
   "metadata": {},
   "outputs": [],
   "source": []
  },
  {
   "cell_type": "code",
   "execution_count": null,
   "metadata": {},
   "outputs": [],
   "source": []
  },
  {
   "cell_type": "code",
   "execution_count": null,
   "metadata": {},
   "outputs": [],
   "source": []
  },
  {
   "cell_type": "code",
   "execution_count": null,
   "metadata": {},
   "outputs": [],
   "source": []
  },
  {
   "cell_type": "code",
   "execution_count": null,
   "metadata": {},
   "outputs": [],
   "source": []
  },
  {
   "cell_type": "code",
   "execution_count": 3,
   "metadata": {},
   "outputs": [
    {
     "data": {
      "text/html": [
       "<table>\n",
       "<thead><tr><th scope=col>estimate</th><th scope=col>low</th><th scope=col>high</th><th scope=col>sample_size</th><th scope=col>poll</th></tr></thead>\n",
       "<tbody>\n",
       "\t<tr><td> 0.095531587</td><td> 0.041377919</td><td>0.14968526  </td><td>1298        </td><td> 1          </td></tr>\n",
       "\t<tr><td> 0.091932458</td><td> 0.007394952</td><td>0.17646996  </td><td> 533        </td><td> 2          </td></tr>\n",
       "\t<tr><td> 0.026825633</td><td>-0.026658319</td><td>0.08030959  </td><td>1342        </td><td> 3          </td></tr>\n",
       "\t<tr><td>-0.023411371</td><td>-0.088835930</td><td>0.04201319  </td><td> 897        </td><td> 4          </td></tr>\n",
       "\t<tr><td> 0.054263566</td><td>-0.016083380</td><td>0.12461051  </td><td> 774        </td><td> 5          </td></tr>\n",
       "\t<tr><td> 0.007874016</td><td>-0.115103510</td><td>0.13085154  </td><td> 254        </td><td> 6          </td></tr>\n",
       "\t<tr><td> 0.034482759</td><td>-0.034258852</td><td>0.10322437  </td><td> 812        </td><td> 7          </td></tr>\n",
       "\t<tr><td> 0.024691358</td><td>-0.084164333</td><td>0.13354705  </td><td> 324        </td><td> 8          </td></tr>\n",
       "\t<tr><td> 0.062742060</td><td> 0.008299762</td><td>0.11718436  </td><td>1291        </td><td> 9          </td></tr>\n",
       "\t<tr><td> 0.081439394</td><td> 0.021324911</td><td>0.14155388  </td><td>1056        </td><td>10          </td></tr>\n",
       "\t<tr><td> 0.081952118</td><td> 0.040037757</td><td>0.12386648  </td><td>2172        </td><td>11          </td></tr>\n",
       "\t<tr><td> 0.011627907</td><td>-0.074650448</td><td>0.09790626  </td><td> 516        </td><td>12          </td></tr>\n",
       "</tbody>\n",
       "</table>\n"
      ],
      "text/latex": [
       "\\begin{tabular}{r|lllll}\n",
       " estimate & low & high & sample\\_size & poll\\\\\n",
       "\\hline\n",
       "\t  0.095531587 &  0.041377919 & 0.14968526   & 1298         &  1          \\\\\n",
       "\t  0.091932458 &  0.007394952 & 0.17646996   &  533         &  2          \\\\\n",
       "\t  0.026825633 & -0.026658319 & 0.08030959   & 1342         &  3          \\\\\n",
       "\t -0.023411371 & -0.088835930 & 0.04201319   &  897         &  4          \\\\\n",
       "\t  0.054263566 & -0.016083380 & 0.12461051   &  774         &  5          \\\\\n",
       "\t  0.007874016 & -0.115103510 & 0.13085154   &  254         &  6          \\\\\n",
       "\t  0.034482759 & -0.034258852 & 0.10322437   &  812         &  7          \\\\\n",
       "\t  0.024691358 & -0.084164333 & 0.13354705   &  324         &  8          \\\\\n",
       "\t  0.062742060 &  0.008299762 & 0.11718436   & 1291         &  9          \\\\\n",
       "\t  0.081439394 &  0.021324911 & 0.14155388   & 1056         & 10          \\\\\n",
       "\t  0.081952118 &  0.040037757 & 0.12386648   & 2172         & 11          \\\\\n",
       "\t  0.011627907 & -0.074650448 & 0.09790626   &  516         & 12          \\\\\n",
       "\\end{tabular}\n"
      ],
      "text/markdown": [
       "\n",
       "| estimate | low | high | sample_size | poll |\n",
       "|---|---|---|---|---|\n",
       "|  0.095531587 |  0.041377919 | 0.14968526   | 1298         |  1           |\n",
       "|  0.091932458 |  0.007394952 | 0.17646996   |  533         |  2           |\n",
       "|  0.026825633 | -0.026658319 | 0.08030959   | 1342         |  3           |\n",
       "| -0.023411371 | -0.088835930 | 0.04201319   |  897         |  4           |\n",
       "|  0.054263566 | -0.016083380 | 0.12461051   |  774         |  5           |\n",
       "|  0.007874016 | -0.115103510 | 0.13085154   |  254         |  6           |\n",
       "|  0.034482759 | -0.034258852 | 0.10322437   |  812         |  7           |\n",
       "|  0.024691358 | -0.084164333 | 0.13354705   |  324         |  8           |\n",
       "|  0.062742060 |  0.008299762 | 0.11718436   | 1291         |  9           |\n",
       "|  0.081439394 |  0.021324911 | 0.14155388   | 1056         | 10           |\n",
       "|  0.081952118 |  0.040037757 | 0.12386648   | 2172         | 11           |\n",
       "|  0.011627907 | -0.074650448 | 0.09790626   |  516         | 12           |\n",
       "\n"
      ],
      "text/plain": [
       "   estimate     low          high       sample_size poll\n",
       "1   0.095531587  0.041377919 0.14968526 1298         1  \n",
       "2   0.091932458  0.007394952 0.17646996  533         2  \n",
       "3   0.026825633 -0.026658319 0.08030959 1342         3  \n",
       "4  -0.023411371 -0.088835930 0.04201319  897         4  \n",
       "5   0.054263566 -0.016083380 0.12461051  774         5  \n",
       "6   0.007874016 -0.115103510 0.13085154  254         6  \n",
       "7   0.034482759 -0.034258852 0.10322437  812         7  \n",
       "8   0.024691358 -0.084164333 0.13354705  324         8  \n",
       "9   0.062742060  0.008299762 0.11718436 1291         9  \n",
       "10  0.081439394  0.021324911 0.14155388 1056        10  \n",
       "11  0.081952118  0.040037757 0.12386648 2172        11  \n",
       "12  0.011627907 -0.074650448 0.09790626  516        12  "
      ]
     },
     "metadata": {},
     "output_type": "display_data"
    }
   ],
   "source": [
    "d <- 0.039\n",
    "Ns <- c(1298, 533, 1342, 897, 774, 254, 812, 324, 1291, 1056, 2172, 516)\n",
    "p <- (d + 1) / 2\n",
    "\n",
    "polls <- map_df(Ns, function(N) {\n",
    "  x <- sample(c(0,1), size=N,    replace=TRUE, prob=c(1-p, p))\n",
    "  x_hat <- mean(x)\n",
    "  se_hat <- sqrt(x_hat * (1 - x_hat) / N)\n",
    "  list(estimate = 2 * x_hat - 1,\n",
    "       low = 2*(x_hat - 1.96*se_hat) - 1,\n",
    "       high = 2*(x_hat + 1.96*se_hat) - 1,\n",
    "       sample_size = N)\n",
    "}) %>% mutate(poll = seq_along(Ns))\n",
    "\n",
    "polls"
   ]
  },
  {
   "cell_type": "code",
   "execution_count": null,
   "metadata": {},
   "outputs": [],
   "source": []
  },
  {
   "cell_type": "code",
   "execution_count": null,
   "metadata": {},
   "outputs": [],
   "source": []
  },
  {
   "cell_type": "code",
   "execution_count": null,
   "metadata": {},
   "outputs": [],
   "source": []
  },
  {
   "cell_type": "code",
   "execution_count": null,
   "metadata": {},
   "outputs": [],
   "source": []
  }
 ],
 "metadata": {
  "kernelspec": {
   "display_name": "R",
   "language": "R",
   "name": "ir"
  },
  "language_info": {
   "codemirror_mode": "r",
   "file_extension": ".r",
   "mimetype": "text/x-r-source",
   "name": "R",
   "pygments_lexer": "r",
   "version": "3.6.1"
  }
 },
 "nbformat": 4,
 "nbformat_minor": 4
}
